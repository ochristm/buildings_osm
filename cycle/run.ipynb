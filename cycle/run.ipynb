{
 "cells": [
  {
   "cell_type": "code",
   "execution_count": 1,
   "metadata": {},
   "outputs": [],
   "source": [
    "import time\n",
    "from tqdm.notebook import tqdm"
   ]
  },
  {
   "cell_type": "code",
   "execution_count": 2,
   "metadata": {},
   "outputs": [],
   "source": [
    "import buildings_from_osm\n",
    "get_data = buildings_from_osm.get_data"
   ]
  },
  {
   "cell_type": "code",
   "execution_count": 3,
   "metadata": {},
   "outputs": [
    {
     "name": "stdout",
     "output_type": "stream",
     "text": [
      "Example\n",
      "2637037,5325621,4139922\n",
      "2637037,5325621,4139922\n"
     ]
    },
    {
     "data": {
      "text/plain": [
       "['2637037', '5325621', '4139922']"
      ]
     },
     "execution_count": 3,
     "metadata": {},
     "output_type": "execute_result"
    }
   ],
   "source": [
    "print(\"Example\")\n",
    "print(\"2637037,5325621,4139922\")\n",
    "rel_ids = input()\n",
    "lst_rel_id = list(rel_ids.split(\",\"))\n",
    "lst_rel_id"
   ]
  },
  {
   "cell_type": "code",
   "execution_count": 4,
   "metadata": {},
   "outputs": [
    {
     "data": {
      "application/vnd.jupyter.widget-view+json": {
       "model_id": "b1a37ba9db504658ae0aa9d7deb78767",
       "version_major": 2,
       "version_minor": 0
      },
      "text/plain": [
       "HBox(children=(FloatProgress(value=0.0, max=3.0), HTML(value='')))"
      ]
     },
     "metadata": {},
     "output_type": "display_data"
    },
    {
     "name": "stdout",
     "output_type": "stream",
     "text": [
      "-1 / unknown\n"
     ]
    }
   ],
   "source": [
    "i=0\n",
    "for i in tqdm(range(len(lst_rel_id))):\n",
    "    try:\n",
    "        one_id = lst_rel_id[i]\n",
    "        get_data(one_id)\n",
    "        time.sleep(60) #sleep for 60 seconds - for api\n",
    "    except:\n",
    "        print(\"not saved:\",one_id)\n",
    "        pass"
   ]
  },
  {
   "cell_type": "code",
   "execution_count": null,
   "metadata": {},
   "outputs": [],
   "source": []
  }
 ],
 "metadata": {
  "kernelspec": {
   "display_name": "Python 3",
   "language": "python",
   "name": "python3"
  },
  "language_info": {
   "codemirror_mode": {
    "name": "ipython",
    "version": 3
   },
   "file_extension": ".py",
   "mimetype": "text/x-python",
   "name": "python",
   "nbconvert_exporter": "python",
   "pygments_lexer": "ipython3",
   "version": "3.7.3"
  }
 },
 "nbformat": 4,
 "nbformat_minor": 4
}
